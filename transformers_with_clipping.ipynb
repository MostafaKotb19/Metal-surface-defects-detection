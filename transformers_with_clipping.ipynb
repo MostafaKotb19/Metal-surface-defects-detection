{
 "cells": [
  {
   "cell_type": "code",
   "execution_count": 8,
   "id": "43110732",
   "metadata": {
    "id": "43110732",
    "outputId": "f1514cb7-ad20-4adc-f8b5-6db13225caed"
   },
   "outputs": [],
   "source": [
    "# import pydot, graphviz\n",
    "from tensorflow.keras.utils import plot_model\n",
    "import tensorflow as tf\n",
    "import keras\n",
    "from keras import regularizers\n",
    "from keras.models import Sequential, load_model\n",
    "from keras.layers import Input, Dense, Conv2D, MaxPooling2D, Flatten, Dropout, concatenate, GlobalAveragePooling2D, Reshape\n",
    "from tensorflow.keras.layers import Permute\n",
    "from keras.utils import np_utils\n",
    "from keras.models import Model\n",
    "from tensorflow.keras.applications import ResNet50\n",
    "import cv2\n",
    "import numpy as np\n",
    "import matplotlib.pyplot as plt\n",
    "from matplotlib import gridspec\n",
    "from sklearn.model_selection import train_test_split\n",
    "import os\n",
    "import pandas as pd\n",
    "import xml.etree.ElementTree as ET\n",
    "from sklearn.preprocessing import MinMaxScaler\n",
    "from PIL import Image\n",
    "from tensorflow.keras.applications.inception_v3 import InceptionV3\n",
    "from keras import Model\n",
    "# import torch\n",
    "# from transformers import ViTFeatureExtractor"
   ]
  },
  {
   "cell_type": "code",
   "execution_count": 9,
   "id": "34b63c3f",
   "metadata": {
    "id": "34b63c3f"
   },
   "outputs": [],
   "source": [
    "mapping = {\n",
    "    \"1_chongkong\" : 0,\n",
    "    \"2_hanfeng\" : 1,\n",
    "    \"3_yueyawan\": 2,\n",
    "    \"4_shuiban\": 3,\n",
    "    \"5_youban\": 4,\n",
    "    \"6_siban\": 5,\n",
    "    \"7_yiwu\": 6,\n",
    "    \"8_yahen\": 11,\n",
    "    \"9_zhehen\": 7,\n",
    "    \"10_yaozhed\": 8,\n",
    "    \"scratches\": 9,\n",
    "    \"rolled-in_scale\": 10\n",
    "}\n",
    "mapping2 = {\n",
    "    0 : \"Punching Hole\",\n",
    "    1 : \"Welding Line\",\n",
    "    2 : \"Crescent Gap\",\n",
    "    3 : \"Water Spot\",\n",
    "    4 : \"Oil Spot\",\n",
    "    5 : \"Silk Spot\",\n",
    "    6 : \"Inclusion\",\n",
    "    11 : \"Rolled Pit\",\n",
    "    7 : \"Crease\",\n",
    "    8 : \"Waist Folding\",\n",
    "    9 : \"Scratches\",\n",
    "    10 : \"Rolled in Scale\"\n",
    "}"
   ]
  },
  {
   "cell_type": "code",
   "execution_count": 10,
   "id": "8a54b3da",
   "metadata": {
    "id": "8a54b3da"
   },
   "outputs": [],
   "source": [
    "X = []\n",
    "y = []\n",
    "X_train = []\n",
    "y_train = []\n",
    "X_val = []\n",
    "y_val = []\n",
    "X_test = []\n",
    "y_test = []"
   ]
  },
  {
   "cell_type": "code",
   "execution_count": 11,
   "id": "100be8ce",
   "metadata": {
    "id": "100be8ce"
   },
   "outputs": [],
   "source": [
    "w_factor = 2048/224.0\n",
    "l_factor = 1000/224.0\n",
    "w = 224\n",
    "l = 224\n",
    "w_factor_2 = 200/224.0\n",
    "l_factor_2 = 200/224.0"
   ]
  },
  {
   "cell_type": "code",
   "execution_count": 12,
   "id": "d7372230",
   "metadata": {
    "id": "d7372230"
   },
   "outputs": [],
   "source": [
    "def get_annotations(directory):\n",
    "\n",
    "    try:\n",
    "        tree = ET.parse(directory)\n",
    "        root = tree.getroot()\n",
    "        boxes = []\n",
    "\n",
    "        defect = -1\n",
    "        objs = root.findall('object')\n",
    "        for i in objs:\n",
    "            name = i.find('name').text\n",
    "            defect = mapping.get(name, 12)\n",
    "            if defect != 12 and defect != 11:\n",
    "                box = i.find('bndbox')\n",
    "                xmin = float(box.find('xmin').text)\n",
    "                ymin = float(box.find('ymin').text)\n",
    "                xmax = float(box.find('xmax').text)\n",
    "                ymax = float(box.find('ymax').text)\n",
    "\n",
    "                if defect == -1:\n",
    "                    return 0\n",
    "                if xmin > xmax:\n",
    "                    temp = xmin\n",
    "                    xmin = xmax\n",
    "                    xmax = temp\n",
    "                if ymin > ymax:\n",
    "                    temp = ymin\n",
    "                    ymin = ymax\n",
    "                    ymax = temp\n",
    "\n",
    "                box = []\n",
    "                for i in range(5):\n",
    "                    box.append(-1)\n",
    "                box[0] = defect\n",
    "                box[1] = (xmin)/w_factor\n",
    "                box[2] = (ymin)/l_factor\n",
    "                box[3] = (xmax)/w_factor\n",
    "                box[4] = (ymax)/l_factor\n",
    "                boxes.append(box)\n",
    "            else:\n",
    "                defect = -1\n",
    "        if defect == -1:\n",
    "            return 0\n",
    "        return boxes\n",
    "    except:\n",
    "        return 0"
   ]
  },
  {
   "cell_type": "code",
   "execution_count": 13,
   "id": "a11ed5c7",
   "metadata": {},
   "outputs": [
    {
     "name": "stdout",
     "output_type": "stream",
     "text": [
      "[[7, 107.296875, 40.768, 223.78125, 55.775999999999996], [7, 52.28125, 40.096, 77.765625, 54.656]]\n"
     ]
    }
   ],
   "source": [
    "print(get_annotations(\"D:\\Datasets_PBL\\lable\\crease (1).xml\"))"
   ]
  },
  {
   "cell_type": "code",
   "execution_count": 14,
   "id": "7f43d04a",
   "metadata": {
    "id": "7f43d04a"
   },
   "outputs": [],
   "source": [
    "def get_annotations_2(directory):\n",
    "\n",
    "    try:\n",
    "        tree = ET.parse(directory)\n",
    "        root = tree.getroot()\n",
    "        boxes = []\n",
    "\n",
    "        defect = -1\n",
    "        objs = root.findall('object')\n",
    "        for i in objs:\n",
    "            name = i.find('name').text\n",
    "            defect = mapping.get(name, 12)\n",
    "            if defect != 12 and defect != 11:\n",
    "                box = i.find('bndbox')\n",
    "                xmin = float(box.find('xmin').text)\n",
    "                ymin = float(box.find('ymin').text)\n",
    "                xmax = float(box.find('xmax').text)\n",
    "                ymax = float(box.find('ymax').text)\n",
    "\n",
    "                if defect == -1:\n",
    "                    return 0\n",
    "                if xmin > xmax:\n",
    "                    temp = xmin\n",
    "                    xmin = xmax\n",
    "                    xmax = temp\n",
    "                if ymin > ymax:\n",
    "                    temp = ymin\n",
    "                    ymin = ymax\n",
    "                    ymax = temp\n",
    "\n",
    "                box = []\n",
    "                for i in range(5):\n",
    "                    box.append(-1)\n",
    "\n",
    "                box[0] = defect\n",
    "                box[1] = (xmin)/w_factor_2\n",
    "                box[2] = (ymin)/l_factor_2\n",
    "                box[3] = (xmax)/w_factor_2\n",
    "                box[4] = (ymax)/l_factor_2\n",
    "                boxes.append(box)\n",
    "            else:\n",
    "                defect = -1\n",
    "        if defect == -1:\n",
    "            return 0\n",
    "        return boxes\n",
    "    except:\n",
    "        return 0"
   ]
  },
  {
   "cell_type": "code",
   "execution_count": 15,
   "id": "deed4635",
   "metadata": {},
   "outputs": [
    {
     "name": "stdout",
     "output_type": "stream",
     "text": [
      "[[7, 107.296875, 40.768, 223.78125, 55.775999999999996], [7, 52.28125, 40.096, 77.765625, 54.656]]\n"
     ]
    }
   ],
   "source": [
    "print(get_annotations(\"D:\\Datasets_PBL\\lable\\crease (1).xml\"))"
   ]
  },
  {
   "cell_type": "code",
   "execution_count": 16,
   "id": "f149e390",
   "metadata": {
    "id": "f149e390"
   },
   "outputs": [],
   "source": [
    "# cd \"C:\\\\Users\\\\Toqa Alaa\\\\PBL2\""
   ]
  },
  {
   "cell_type": "code",
   "execution_count": 17,
   "id": "1c77d07e",
   "metadata": {
    "id": "1c77d07e",
    "outputId": "9cc82f90-9c13-4589-c933-07c1a0ad29a0"
   },
   "outputs": [
    {
     "ename": "FileNotFoundError",
     "evalue": "[WinError 3] The system cannot find the path specified: 'gc10det/crease'",
     "output_type": "error",
     "traceback": [
      "\u001b[1;31m---------------------------------------------------------------------------\u001b[0m",
      "\u001b[1;31mFileNotFoundError\u001b[0m                         Traceback (most recent call last)",
      "Cell \u001b[1;32mIn[17], line 3\u001b[0m\n\u001b[0;32m      1\u001b[0m \u001b[38;5;66;03m#Displaying sample data for all classes\u001b[39;00m\n\u001b[0;32m      2\u001b[0m path \u001b[38;5;241m=\u001b[39m\u001b[38;5;124m'\u001b[39m\u001b[38;5;124mgc10det/crease\u001b[39m\u001b[38;5;124m'\u001b[39m\n\u001b[1;32m----> 3\u001b[0m \u001b[38;5;28;01mfor\u001b[39;00m img \u001b[38;5;129;01min\u001b[39;00m \u001b[43mos\u001b[49m\u001b[38;5;241;43m.\u001b[39;49m\u001b[43mlistdir\u001b[49m\u001b[43m(\u001b[49m\u001b[43mpath\u001b[49m\u001b[43m)\u001b[49m:\n\u001b[0;32m      4\u001b[0m     img_array1 \u001b[38;5;241m=\u001b[39m cv2\u001b[38;5;241m.\u001b[39mimread(os\u001b[38;5;241m.\u001b[39mpath\u001b[38;5;241m.\u001b[39mjoin(path,img))\n\u001b[0;32m      5\u001b[0m     img_array1 \u001b[38;5;241m=\u001b[39m cv2\u001b[38;5;241m.\u001b[39mresize(img_array1, (\u001b[38;5;241m100\u001b[39m, \u001b[38;5;241m100\u001b[39m))\n",
      "\u001b[1;31mFileNotFoundError\u001b[0m: [WinError 3] The system cannot find the path specified: 'gc10det/crease'"
     ]
    }
   ],
   "source": [
    "#Displaying sample data for all classes\n",
    "path ='gc10det/crease'\n",
    "for img in os.listdir(path):\n",
    "    img_array1 = cv2.imread(os.path.join(path,img))\n",
    "    img_array1 = cv2.resize(img_array1, (100, 100))\n",
    "    break\n",
    "\n",
    "path ='gc10det/crescent_gap'\n",
    "for img in os.listdir(path):\n",
    "    img_array2 = cv2.imread(os.path.join(path,img))\n",
    "    img_array2 = cv2.resize(img_array2, (100, 100))\n",
    "    break\n",
    "\n",
    "\n",
    "path ='gc10det/inclusion'\n",
    "for img in os.listdir(path):\n",
    "    img_array3 = cv2.imread(os.path.join(path,img))\n",
    "    img_array3 = cv2.resize(img_array3, (100, 100))\n",
    "    break\n",
    "\n",
    "\n",
    "path ='gc10det/oil_spot'\n",
    "for img in os.listdir(path):\n",
    "    img_array4 = cv2.imread(os.path.join(path,img))\n",
    "    img_array4 = cv2.resize(img_array4, (100, 100))\n",
    "    break\n",
    "\n",
    "path ='gc10det/punching_hole'\n",
    "for img in os.listdir(path):\n",
    "    img_array5 = cv2.imread(os.path.join(path,img))\n",
    "    img_array5 = cv2.resize(img_array5, (100, 100))\n",
    "    break\n",
    "\n",
    "path ='gc10det/rolled_in_scale'\n",
    "for img in os.listdir(path):\n",
    "    img_array6 = cv2.imread(os.path.join(path,img))\n",
    "    img_array6 = cv2.resize(img_array6, (100, 100))\n",
    "    break\n",
    "\n",
    "path ='gc10det/scratches'\n",
    "for img in os.listdir(path):\n",
    "    img_array7 = cv2.imread(os.path.join(path,img))\n",
    "    img_array7 = cv2.resize(img_array7, (100, 100))\n",
    "    break\n",
    "\n",
    "\n",
    "path ='gc10det/silk_spot'\n",
    "for img in os.listdir(path):\n",
    "    img_array8 = cv2.imread(os.path.join(path,img))\n",
    "    img_array8 = cv2.resize(img_array8, (100, 100))\n",
    "    break\n",
    "\n",
    "\n",
    "path ='gc10det/waist_folding'\n",
    "for img in os.listdir(path):\n",
    "    img_array9 = cv2.imread(os.path.join(path,img))\n",
    "    img_array9 = cv2.resize(img_array9, (100, 100))\n",
    "    break\n",
    "\n",
    "path ='gc10det/water_spot'\n",
    "for img in os.listdir(path):\n",
    "    img_array10 = cv2.imread(os.path.join(path,img))\n",
    "    img_array10 = cv2.resize(img_array10, (100, 100))\n",
    "    break\n",
    "\n",
    "path ='gc10det/welding_line'\n",
    "for img in os.listdir(path):\n",
    "    img_array11 = cv2.imread(os.path.join(path,img))\n",
    "    img_array11 = cv2.resize(img_array11, (100, 100))\n",
    "    break\n",
    "\n",
    "fig = plt.figure(figsize=(15, 15))\n",
    "spec = gridspec.GridSpec(ncols=3, nrows=4,\n",
    "                         width_ratios=[1, 1, 1], wspace=0.4,\n",
    "                         hspace=0.4, height_ratios=[1, 1, 1, 1])\n",
    "ax1 = fig.add_subplot(3, 4, 1)\n",
    "ax1.imshow(img_array1, cmap='gray')\n",
    "fig.suptitle(\"Sample images for 11 classes\")\n",
    "ax1.set_title(\"Crease\")\n",
    "ax2 = fig.add_subplot(3, 4, 2)\n",
    "ax2.imshow(img_array2, cmap='gray')\n",
    "ax2.set_title(\"Crescent Gap\")\n",
    "ax3 = fig.add_subplot(3, 4, 3)\n",
    "ax3.imshow(img_array3, cmap='gray')\n",
    "ax3.set_title(\"Inclusion\")\n",
    "ax4 = fig.add_subplot(3, 4, 4)\n",
    "ax4.imshow(img_array4, cmap='gray')\n",
    "ax4.set_title(\"Oil Spot\")\n",
    "ax5 = fig.add_subplot(3, 4, 5)\n",
    "ax5.imshow(img_array5, cmap='gray')\n",
    "ax5.set_title(\"Punching Hole\")\n",
    "ax6 = fig.add_subplot(3, 4, 6)\n",
    "ax6.imshow(img_array6, cmap='gray')\n",
    "ax6.set_title(\"Rolled in Scale\")\n",
    "ax7 = fig.add_subplot(3, 4, 7)\n",
    "ax7.imshow(img_array7, cmap='gray')\n",
    "ax7.set_title(\"Scratches\")\n",
    "ax8 = fig.add_subplot(3, 4, 8)\n",
    "ax8.imshow(img_array8, cmap='gray')\n",
    "ax8.set_title(\"Silk Spot\")\n",
    "ax9 = fig.add_subplot(3, 4, 9)\n",
    "ax9.imshow(img_array9, cmap='gray')\n",
    "ax9.set_title(\"Waist Folding\")\n",
    "ax10 = fig.add_subplot(3, 4, 10)\n",
    "ax10.imshow(img_array10, cmap='gray')\n",
    "ax10.set_title(\"Water Spot\")\n",
    "ax11 = fig.add_subplot(3, 4, 11)\n",
    "ax11.imshow(img_array11, cmap='gray')\n",
    "ax11.set_title(\"Welding Line\")"
   ]
  },
  {
   "cell_type": "code",
   "execution_count": null,
   "id": "711517cd",
   "metadata": {
    "id": "711517cd"
   },
   "outputs": [],
   "source": [
    "for i in range(1, 54):\n",
    "    annotation = get_annotations(fr'lable/crease ({i}).xml')\n",
    "    if(annotation):\n",
    "        img = cv2.imread(fr'gc10det/crease/crease ({i}).jpg')\n",
    "        img = cv2.resize(img, (w, l))\n",
    "        img= cv2.cvtColor(img, cv2.COLOR_BGR2GRAY)\n",
    "        img= np.expand_dims(img, axis=0)\n",
    "        X.append(img)\n",
    "        y.append(annotation)\n",
    "\n",
    "for i in range(1, 227):\n",
    "    annotation = get_annotations(fr'lable/crescent_gap ({i}).xml')\n",
    "    if(annotation):\n",
    "        img = cv2.imread(fr'gc10det/crescent_gap/crescent_gap ({i}).jpg')\n",
    "        img = cv2.resize(img, (w, l))\n",
    "        img= cv2.cvtColor(img, cv2.COLOR_BGR2GRAY)\n",
    "        img= np.expand_dims(img, axis=0)\n",
    "        X.append(img)\n",
    "        y.append(annotation)\n",
    "\n",
    "for i in range(1, 493):\n",
    "    if i<217:\n",
    "        annotation = get_annotations(fr'lable/inclusion ({i}).xml')\n",
    "    else:\n",
    "        annotation = get_annotations_2(fr'lable/inclusion ({i}).xml')\n",
    "    if(annotation):\n",
    "        img = cv2.imread(fr'gc10det/inclusion/inclusion ({i}).jpg')\n",
    "        img = cv2.resize(img, (w, l))\n",
    "        img= cv2.cvtColor(img, cv2.COLOR_BGR2GRAY)\n",
    "        img= np.expand_dims(img, axis=0)\n",
    "        X.append(img)\n",
    "        y.append(annotation)\n",
    "\n",
    "for i in range(1, 205):\n",
    "    annotation = get_annotations(fr'lable/oil_spot ({i}).xml')\n",
    "    if(annotation):\n",
    "        img = cv2.imread(fr'gc10det/oil_spot/oil_spot ({i}).jpg')\n",
    "        img = cv2.resize(img, (w, l))\n",
    "        img= cv2.cvtColor(img, cv2.COLOR_BGR2GRAY)\n",
    "        img= np.expand_dims(img, axis=0)\n",
    "        X.append(img)\n",
    "        y.append(annotation)\n",
    "\n",
    "for i in range(1, 220):\n",
    "    annotation = get_annotations(fr'lable/punching_hole ({i}).xml')\n",
    "    if(annotation):\n",
    "        img = cv2.imread(fr'gc10det/punching_hole/punching_hole ({i}).jpg')\n",
    "        img = cv2.resize(img, (w, l))\n",
    "        img= cv2.cvtColor(img, cv2.COLOR_BGR2GRAY)\n",
    "        img= np.expand_dims(img, axis=0)\n",
    "        X.append(img)\n",
    "        y.append(annotation)\n",
    "\n",
    "for i in range(1, 277):\n",
    "    annotation = get_annotations_2(fr'lable/rolled_in_scale ({i}).xml')\n",
    "    if(annotation):\n",
    "        img = cv2.imread(fr'gc10det/rolled_in_scale/rolled_in_scale ({i}).jpg')\n",
    "        img = cv2.resize(img, (w, l))\n",
    "        img= cv2.cvtColor(img, cv2.COLOR_BGR2GRAY)\n",
    "        img= np.expand_dims(img, axis=0)\n",
    "        X.append(img)\n",
    "        y.append(annotation)\n",
    "\n",
    "for i in range(1, 277):\n",
    "    annotation = get_annotations_2(fr'lable/scratches ({i}).xml')\n",
    "    if(annotation):\n",
    "        img = cv2.imread(fr'gc10det/scratches/scratches ({i}).jpg')\n",
    "        img = cv2.resize(img, (w, l))\n",
    "        img= cv2.cvtColor(img, cv2.COLOR_BGR2GRAY)\n",
    "        img= np.expand_dims(img, axis=0)\n",
    "        X.append(img)\n",
    "        y.append(annotation)\n",
    "\n",
    "for i in range(1, 652):\n",
    "    annotation = get_annotations(fr'lable/silk_spot ({i}).xml')\n",
    "    if(annotation):\n",
    "        img = cv2.imread(fr'gc10det/silk_spot/silk_spot ({i}).jpg')\n",
    "        img = cv2.resize(img, (w, l))\n",
    "        img= cv2.cvtColor(img, cv2.COLOR_BGR2GRAY)\n",
    "        img= np.expand_dims(img, axis=0)\n",
    "        X.append(img)\n",
    "        y.append(annotation)\n",
    "\n",
    "for i in range(1, 150):\n",
    "    annotation = get_annotations(fr'lable/waist_folding ({i}).xml')\n",
    "    if(annotation):\n",
    "        img = cv2.imread(fr'gc10det/waist_folding/waist_folding ({i}).jpg')\n",
    "        img = cv2.resize(img, (w, l))\n",
    "        img= cv2.cvtColor(img, cv2.COLOR_BGR2GRAY)\n",
    "        img= np.expand_dims(img, axis=0)\n",
    "        X.append(img)\n",
    "        y.append(annotation)\n",
    "\n",
    "for i in range(1, 290):\n",
    "    annotation = get_annotations(fr'lable/water_spot ({i}).xml')\n",
    "    if(annotation):\n",
    "        img = cv2.imread(fr'gc10det/water_spot/water_spot ({i}).jpg')\n",
    "        img = cv2.resize(img, (w, l))\n",
    "        img= cv2.cvtColor(img, cv2.COLOR_BGR2GRAY)\n",
    "        img= np.expand_dims(img, axis=0)\n",
    "        X.append(img)\n",
    "        y.append(annotation)\n",
    "\n",
    "for i in range(1, 274):\n",
    "    annotation = get_annotations(fr'lable/welding_line ({i}).xml')\n",
    "    if(annotation):\n",
    "        img = cv2.imread(fr'gc10det/welding_line/welding_line ({i}).jpg')\n",
    "        img = cv2.resize(img, (w, l))\n",
    "        img= cv2.cvtColor(img, cv2.COLOR_BGR2GRAY)\n",
    "        img= np.expand_dims(img, axis=0)\n",
    "        X.append(img)\n",
    "        y.append(annotation)"
   ]
  },
  {
   "cell_type": "code",
   "execution_count": 18,
   "id": "25ecab10",
   "metadata": {
    "id": "25ecab10"
   },
   "outputs": [
    {
     "ename": "ValueError",
     "evalue": "With n_samples=0, test_size=0.2 and train_size=None, the resulting train set will be empty. Adjust any of the aforementioned parameters.",
     "output_type": "error",
     "traceback": [
      "\u001b[1;31m---------------------------------------------------------------------------\u001b[0m",
      "\u001b[1;31mValueError\u001b[0m                                Traceback (most recent call last)",
      "Cell \u001b[1;32mIn[18], line 1\u001b[0m\n\u001b[1;32m----> 1\u001b[0m X_train, X_val, y_train, y_val \u001b[38;5;241m=\u001b[39m \u001b[43mtrain_test_split\u001b[49m\u001b[43m(\u001b[49m\u001b[43mX\u001b[49m\u001b[43m,\u001b[49m\u001b[43m \u001b[49m\u001b[43my\u001b[49m\u001b[43m,\u001b[49m\u001b[43m \u001b[49m\u001b[43mtest_size\u001b[49m\u001b[38;5;241;43m=\u001b[39;49m\u001b[38;5;241;43m0.2\u001b[39;49m\u001b[43m,\u001b[49m\u001b[43m \u001b[49m\u001b[43mrandom_state\u001b[49m\u001b[38;5;241;43m=\u001b[39;49m\u001b[38;5;241;43m42\u001b[39;49m\u001b[43m)\u001b[49m\n\u001b[0;32m      3\u001b[0m X_train, X_test, y_train, y_test \u001b[38;5;241m=\u001b[39m train_test_split(X_train, y_train, test_size\u001b[38;5;241m=\u001b[39m\u001b[38;5;241m0.125\u001b[39m, random_state\u001b[38;5;241m=\u001b[39m\u001b[38;5;241m42\u001b[39m)\n",
      "File \u001b[1;32mC:\\Anaconda\\envs\\deep_learning\\lib\\site-packages\\sklearn\\model_selection\\_split.py:2562\u001b[0m, in \u001b[0;36mtrain_test_split\u001b[1;34m(test_size, train_size, random_state, shuffle, stratify, *arrays)\u001b[0m\n\u001b[0;32m   2559\u001b[0m arrays \u001b[38;5;241m=\u001b[39m indexable(\u001b[38;5;241m*\u001b[39marrays)\n\u001b[0;32m   2561\u001b[0m n_samples \u001b[38;5;241m=\u001b[39m _num_samples(arrays[\u001b[38;5;241m0\u001b[39m])\n\u001b[1;32m-> 2562\u001b[0m n_train, n_test \u001b[38;5;241m=\u001b[39m \u001b[43m_validate_shuffle_split\u001b[49m\u001b[43m(\u001b[49m\n\u001b[0;32m   2563\u001b[0m \u001b[43m    \u001b[49m\u001b[43mn_samples\u001b[49m\u001b[43m,\u001b[49m\u001b[43m \u001b[49m\u001b[43mtest_size\u001b[49m\u001b[43m,\u001b[49m\u001b[43m \u001b[49m\u001b[43mtrain_size\u001b[49m\u001b[43m,\u001b[49m\u001b[43m \u001b[49m\u001b[43mdefault_test_size\u001b[49m\u001b[38;5;241;43m=\u001b[39;49m\u001b[38;5;241;43m0.25\u001b[39;49m\n\u001b[0;32m   2564\u001b[0m \u001b[43m\u001b[49m\u001b[43m)\u001b[49m\n\u001b[0;32m   2566\u001b[0m \u001b[38;5;28;01mif\u001b[39;00m shuffle \u001b[38;5;129;01mis\u001b[39;00m \u001b[38;5;28;01mFalse\u001b[39;00m:\n\u001b[0;32m   2567\u001b[0m     \u001b[38;5;28;01mif\u001b[39;00m stratify \u001b[38;5;129;01mis\u001b[39;00m \u001b[38;5;129;01mnot\u001b[39;00m \u001b[38;5;28;01mNone\u001b[39;00m:\n",
      "File \u001b[1;32mC:\\Anaconda\\envs\\deep_learning\\lib\\site-packages\\sklearn\\model_selection\\_split.py:2236\u001b[0m, in \u001b[0;36m_validate_shuffle_split\u001b[1;34m(n_samples, test_size, train_size, default_test_size)\u001b[0m\n\u001b[0;32m   2233\u001b[0m n_train, n_test \u001b[38;5;241m=\u001b[39m \u001b[38;5;28mint\u001b[39m(n_train), \u001b[38;5;28mint\u001b[39m(n_test)\n\u001b[0;32m   2235\u001b[0m \u001b[38;5;28;01mif\u001b[39;00m n_train \u001b[38;5;241m==\u001b[39m \u001b[38;5;241m0\u001b[39m:\n\u001b[1;32m-> 2236\u001b[0m     \u001b[38;5;28;01mraise\u001b[39;00m \u001b[38;5;167;01mValueError\u001b[39;00m(\n\u001b[0;32m   2237\u001b[0m         \u001b[38;5;124m\"\u001b[39m\u001b[38;5;124mWith n_samples=\u001b[39m\u001b[38;5;132;01m{}\u001b[39;00m\u001b[38;5;124m, test_size=\u001b[39m\u001b[38;5;132;01m{}\u001b[39;00m\u001b[38;5;124m and train_size=\u001b[39m\u001b[38;5;132;01m{}\u001b[39;00m\u001b[38;5;124m, the \u001b[39m\u001b[38;5;124m\"\u001b[39m\n\u001b[0;32m   2238\u001b[0m         \u001b[38;5;124m\"\u001b[39m\u001b[38;5;124mresulting train set will be empty. Adjust any of the \u001b[39m\u001b[38;5;124m\"\u001b[39m\n\u001b[0;32m   2239\u001b[0m         \u001b[38;5;124m\"\u001b[39m\u001b[38;5;124maforementioned parameters.\u001b[39m\u001b[38;5;124m\"\u001b[39m\u001b[38;5;241m.\u001b[39mformat(n_samples, test_size, train_size)\n\u001b[0;32m   2240\u001b[0m     )\n\u001b[0;32m   2242\u001b[0m \u001b[38;5;28;01mreturn\u001b[39;00m n_train, n_test\n",
      "\u001b[1;31mValueError\u001b[0m: With n_samples=0, test_size=0.2 and train_size=None, the resulting train set will be empty. Adjust any of the aforementioned parameters."
     ]
    }
   ],
   "source": [
    "X_train, X_val, y_train, y_val = train_test_split(X, y, test_size=0.2, random_state=42)\n",
    "\n",
    "X_train, X_test, y_train, y_test = train_test_split(X_train, y_train, test_size=0.125, random_state=42)"
   ]
  },
  {
   "cell_type": "code",
   "execution_count": null,
   "id": "328df1cf",
   "metadata": {},
   "outputs": [],
   "source": []
  },
  {
   "cell_type": "code",
   "execution_count": 19,
   "id": "225ff424",
   "metadata": {
    "id": "225ff424"
   },
   "outputs": [],
   "source": [
    "classes_train = []\n",
    "dims_train = []\n",
    "for i in range(len(y_train)):\n",
    "    tmp_classes = []\n",
    "    tmp_dims = []\n",
    "    for j in range(len(y_train[i])):\n",
    "        tmp_classes.append(y_train[i][j][0])\n",
    "        tmp_dims.append(y_train[i][j][1:])\n",
    "    classes_train.append(tmp_classes)\n",
    "    dims_train.append(tmp_dims)\n",
    "\n",
    "classes_val = []\n",
    "dims_val = []\n",
    "for i in range(len(y_val)):\n",
    "    tmp_classes = []\n",
    "    tmp_dims = []\n",
    "    for j in range(len(y_val[i])):\n",
    "        tmp_classes.append(y_val[i][j][0])\n",
    "        tmp_dims.append(y_val[i][j][1:])\n",
    "    classes_val.append(tmp_classes)\n",
    "    dims_val.append(tmp_dims)\n",
    "\n",
    "classes_test = []\n",
    "dims_test = []\n",
    "for i in range(len(y_test)):\n",
    "    tmp_classes = []\n",
    "    tmp_dims = []\n",
    "    for j in range(len(y_test[i])):\n",
    "        tmp_classes.append(y_test[i][j][0])\n",
    "        tmp_dims.append(y_test[i][j][1:])\n",
    "    classes_test.append(tmp_classes)\n",
    "    dims_test.append(tmp_dims)"
   ]
  },
  {
   "cell_type": "code",
   "execution_count": null,
   "id": "ad79aa00",
   "metadata": {
    "id": "ad79aa00"
   },
   "outputs": [],
   "source": [
    "X_train = np.array(X_train, dtype = 'float')\n",
    "X_test = np.array(X_test, dtype = 'float')\n",
    "X_val = np.array(X_val, dtype = 'float')\n",
    "\n",
    "\n",
    "#X_train /= 255.0\n",
    "#X_test /= 255\n",
    "#X_val/= 255.0"
   ]
  },
  {
   "cell_type": "code",
   "execution_count": null,
   "id": "67db2aaf",
   "metadata": {
    "id": "67db2aaf"
   },
   "outputs": [],
   "source": [
    "def extract_min(lst, index):\n",
    "    minn = 10000000\n",
    "    for i in range(len(lst)):\n",
    "        for j in range(len(lst[i])):\n",
    "            if lst[i][j][index] < minn:\n",
    "                minn = lst[i][j][index]\n",
    "    return minn\n",
    "\n",
    "def extract_max(lst, index):\n",
    "    maxx = -10000000\n",
    "    for i in range(len(lst)):\n",
    "        for j in range(len(lst[i])):\n",
    "            if lst[i][j][index] > maxx:\n",
    "                maxx = lst[i][j][index]\n",
    "    return maxx"
   ]
  },
  {
   "cell_type": "code",
   "execution_count": null,
   "id": "f144d297",
   "metadata": {
    "id": "f144d297"
   },
   "outputs": [],
   "source": [
    "def maxminscaler(lst, maxx, minn, index):\n",
    "    for i in range(len(lst)):\n",
    "        for j in range(len(lst[i])):\n",
    "            lst[i][j][index] = (lst[i][j][index] - minn)/(maxx - minn)\n",
    "    return lst"
   ]
  },
  {
   "cell_type": "code",
   "execution_count": null,
   "id": "72cb0d72",
   "metadata": {
    "id": "72cb0d72"
   },
   "outputs": [],
   "source": [
    "xmin_min = extract_min(dims_train, 0)\n",
    "xmin_max = extract_max(dims_train, 0)\n",
    "xmax_min = extract_min(dims_train, 1)\n",
    "xmax_max = extract_max(dims_train, 1)\n",
    "ymin_min = extract_min(dims_train, 2)\n",
    "ymin_max = extract_max(dims_train, 2)\n",
    "ymax_min = extract_min(dims_train, 3)\n",
    "ymax_max = extract_max(dims_train, 3)"
   ]
  },
  {
   "cell_type": "code",
   "execution_count": null,
   "id": "8725ee37",
   "metadata": {
    "id": "8725ee37"
   },
   "outputs": [],
   "source": [
    "dims_train = maxminscaler(dims_train, xmin_min, xmin_max, 0)\n",
    "dims_train = maxminscaler(dims_train, xmax_min, xmax_max, 1)\n",
    "dims_train = maxminscaler(dims_train, ymin_min, ymin_max, 2)\n",
    "dims_train = maxminscaler(dims_train, ymax_min, ymax_max, 3)\n",
    "\n",
    "dims_val = maxminscaler(dims_val, xmin_min, xmin_max, 0)\n",
    "dims_val = maxminscaler(dims_val, xmax_min, xmax_max, 1)\n",
    "dims_val = maxminscaler(dims_val, ymin_min, ymin_max, 2)\n",
    "dims_val = maxminscaler(dims_val, ymax_min, ymax_max, 3)\n",
    "\n",
    "dims_test = maxminscaler(dims_test, xmin_min, xmin_max, 0)\n",
    "dims_test = maxminscaler(dims_test, xmax_min, xmax_max, 1)\n",
    "dims_test = maxminscaler(dims_test, ymin_min, ymin_max, 2)\n",
    "dims_test = maxminscaler(dims_test, ymax_min, ymax_max, 3)"
   ]
  },
  {
   "cell_type": "code",
   "execution_count": null,
   "id": "b5c1f607",
   "metadata": {
    "id": "b5c1f607",
    "outputId": "3953e1e8-7e12-43db-c895-76c8c1fd5b35"
   },
   "outputs": [],
   "source": [
    "maximum_defects = 0\n",
    "for i in dims_val:\n",
    "    if len(i) > maximum_defects:\n",
    "        maximum_defects = len(i)\n",
    "\n",
    "print(maximum_defects)"
   ]
  },
  {
   "cell_type": "code",
   "execution_count": null,
   "id": "e72f4fc6",
   "metadata": {
    "id": "e72f4fc6"
   },
   "outputs": [],
   "source": [
    "def pad_dims(lst):\n",
    "    pad = [0, 0, 0, 0]\n",
    "    for i in range(len(lst)):\n",
    "        for _ in range(11 - len(lst[i])):\n",
    "            lst[i].append(pad)\n",
    "    return lst\n",
    "\n",
    "def pad_classes(lst):\n",
    "    pad = -1\n",
    "    for i in range(len(lst)):\n",
    "        for _ in range(11 - len(lst[i])):\n",
    "            lst[i].append(pad)\n",
    "    return lst"
   ]
  },
  {
   "cell_type": "code",
   "execution_count": null,
   "id": "884fa9f9",
   "metadata": {
    "id": "884fa9f9"
   },
   "outputs": [],
   "source": [
    "dims_train = pad_dims(dims_train)\n",
    "dims_val = pad_dims(dims_val)\n",
    "dims_test = pad_dims(dims_test)\n",
    "classes_train = pad_classes(classes_train)\n",
    "classes_val = pad_classes(classes_val)\n",
    "classes_test = pad_classes(classes_test)"
   ]
  },
  {
   "cell_type": "code",
   "execution_count": null,
   "id": "bb0d9a74",
   "metadata": {
    "id": "bb0d9a74"
   },
   "outputs": [],
   "source": [
    "num_classes = 12\n",
    "\n",
    "for i in range(len(classes_train)):\n",
    "    classes_train[i] = np.array(classes_train[i], dtype = 'float').astype('float64').reshape((-1,1))\n",
    "    classes_train[i] = np_utils.to_categorical(classes_train[i], num_classes=num_classes)\n",
    "\n",
    "for i in range(len(dims_train)):\n",
    "    dims_train[i] = np.array(dims_train[i], dtype = 'float')\n",
    "\n",
    "for i in range(len(classes_val)):\n",
    "    classes_val[i] = np.array(classes_val[i], dtype = 'float').astype('float64').reshape((-1,1))\n",
    "    classes_val[i] = np_utils.to_categorical(classes_val[i], num_classes=num_classes)\n",
    "\n",
    "for i in range(len(dims_val)):\n",
    "    dims_val[i] = np.array(dims_val[i], dtype = 'float')\n",
    "\n",
    "for i in range(len(classes_test)):\n",
    "    classes_test[i] = np.array(classes_test[i], dtype = 'float').astype('float64').reshape((-1,1))\n",
    "    classes_test[i] = np_utils.to_categorical(classes_test[i], num_classes=num_classes)\n",
    "\n",
    "for i in range(len(dims_test)):\n",
    "    dims_test[i] = np.array(dims_test[i], dtype = 'float')\n",
    "\n",
    "num_regressors = 4"
   ]
  },
  {
   "cell_type": "code",
   "execution_count": null,
   "id": "c932353f",
   "metadata": {
    "id": "c932353f"
   },
   "outputs": [],
   "source": [
    "for i in range(len(dims_val)):\n",
    "    if (len(dims_val[i])!=11):\n",
    "        print(i)\n",
    "    #print(len(i))\n",
    "#dims_val[288]"
   ]
  },
  {
   "cell_type": "code",
   "execution_count": null,
   "id": "f5f2dc44",
   "metadata": {
    "id": "f5f2dc44",
    "outputId": "33e6a343-0ace-4d9b-d118-ecd44287c9d1"
   },
   "outputs": [],
   "source": [
    "print(len(dims_train[0]))\n",
    "dims_train = np.array(dims_train, dtype = 'float')\n",
    "dims_val = np.array(dims_val, dtype = 'float')\n",
    "dims_test = np.array(dims_test, dtype = 'float')\n",
    "classes_train = np.array(classes_train, dtype = 'float')\n",
    "classes_val = np.array(classes_val, dtype = 'float')\n",
    "classes_test = np.array(classes_test, dtype = 'float')"
   ]
  },
  {
   "cell_type": "code",
   "execution_count": null,
   "id": "851938a7",
   "metadata": {
    "id": "851938a7",
    "outputId": "0ce14dac-0768-4a0b-9883-0e370e1118d6"
   },
   "outputs": [],
   "source": [
    "model_name_or_path = 'google/vit-base-patch16-224-in21k'\n",
    "feature_extractor = ViTFeatureExtractor.from_pretrained(model_name_or_path)"
   ]
  },
  {
   "cell_type": "code",
   "execution_count": null,
   "id": "904436cc",
   "metadata": {
    "id": "904436cc"
   },
   "outputs": [],
   "source": [
    "feature_extractor.image_mean=[0.5]\n",
    "feature_extractor.image_std= [0.5]"
   ]
  },
  {
   "cell_type": "code",
   "execution_count": null,
   "id": "db247fcd",
   "metadata": {
    "id": "db247fcd"
   },
   "outputs": [],
   "source": [
    "X_train_ext = feature_extractor(X_train, return_tensors='tf')\n",
    "X_train_ext = X_train_ext['pixel_values'].numpy()\n",
    "X_val_ext = feature_extractor(X_val, return_tensors='tf')\n",
    "X_val_ext = X_val_ext['pixel_values'].numpy()\n",
    "X_test_ext = feature_extractor(X_test, return_tensors='tf')\n",
    "X_test_ext = X_test_ext['pixel_values'].numpy()"
   ]
  },
  {
   "cell_type": "code",
   "execution_count": null,
   "id": "d93b4198",
   "metadata": {
    "id": "d93b4198",
    "outputId": "41e8a17a-5671-42d3-c083-d20342617ec7"
   },
   "outputs": [],
   "source": [
    "X_test_ext.shape"
   ]
  },
  {
   "cell_type": "code",
   "execution_count": null,
   "id": "9d0ee14f",
   "metadata": {
    "id": "9d0ee14f",
    "outputId": "32dd5fad-729a-48cc-c595-86611d39c6df"
   },
   "outputs": [],
   "source": [
    "X_train_ext[700]"
   ]
  },
  {
   "cell_type": "code",
   "execution_count": null,
   "id": "31e50ac3",
   "metadata": {
    "id": "31e50ac3",
    "outputId": "795572c5-ef09-40dc-a10a-81f3675fd48a"
   },
   "outputs": [],
   "source": [
    "tf.version"
   ]
  },
  {
   "cell_type": "code",
   "execution_count": null,
   "id": "bb487d33",
   "metadata": {
    "id": "bb487d33",
    "outputId": "ab11b8b8-800a-48f4-d35f-e6e49ce6137b"
   },
   "outputs": [],
   "source": [
    "dims_train[8]"
   ]
  },
  {
   "cell_type": "code",
   "execution_count": null,
   "id": "bba17b45",
   "metadata": {
    "id": "bba17b45"
   },
   "outputs": [],
   "source": [
    "def my_CE(y_true, y_pred):\n",
    "    # Reshape to one-dimensional tensors\n",
    "    y_true = tf.reshape(y_true, shape=(-1,))\n",
    "    y_pred = tf.reshape(y_pred, shape=(-1,))\n",
    "\n",
    "    log_y_pred = tf.math.log(y_pred)\n",
    "    element_wise = -tf.math.multiply_no_nan(x=log_y_pred, y=y_true)\n",
    "    x = tf.reduce_mean(element_wise)\n",
    "    return x\n",
    "\n",
    "def categorical_crossentropy2(y_true, y_pred):\n",
    "    m = len(y_true)\n",
    "    loss = tf.zeros([])\n",
    "    for i in range(len(y_true)):\n",
    "        for j in range(len(y_true[i])):\n",
    "            loss += my_CE(y_true[i][j], y_pred[i][j])\n",
    "\n",
    "    loss /= tf.cast(m, tf.float32)\n",
    "    return loss"
   ]
  },
  {
   "cell_type": "code",
   "execution_count": null,
   "id": "90f561af",
   "metadata": {
    "id": "90f561af",
    "outputId": "491b3632-838a-4ef9-e8af-5c8792ff46dc"
   },
   "outputs": [],
   "source": [
    "config = tf.compat.v1.ConfigProto()\n",
    "config.gpu_options.per_process_gpu_memory_fraction = 0.8  # Allocate 80% of the available GPU memory\n",
    "tf.compat.v1.keras.backend.set_session(tf.compat.v1.Session(config=config))"
   ]
  },
  {
   "cell_type": "code",
   "execution_count": null,
   "id": "4b06de83",
   "metadata": {
    "id": "4b06de83"
   },
   "outputs": [],
   "source": [
    "def accuracy2(y_true, y_pred):\n",
    "    m= len(y_true)\n",
    "    accuracy=0\n",
    "    for i in range(len(y_true)):\n",
    "        for j in range(len(y_true[i])):\n",
    "            mask = tf.not_equal(tf.argmax(y_true[i][j], axis=-1), 11)  # Exclude class 12 (index 11)\n",
    "            if (not mask): continue\n",
    "\n",
    "            correct_predictions = tf.equal(tf.argmax(y_true[i][j], axis=-1), tf.argmax(y_pred[i][j], axis=-1))\n",
    "            accuracy += tf.reduce_mean(tf.cast(correct_predictions, tf.float32))\n",
    "\n",
    "    accuracy/=m\n",
    "\n",
    "    return accuracy"
   ]
  },
  {
   "cell_type": "code",
   "execution_count": null,
   "id": "019881bd",
   "metadata": {
    "id": "019881bd"
   },
   "outputs": [],
   "source": [
    "keras.backend.clear_session()"
   ]
  },
  {
   "cell_type": "code",
   "execution_count": null,
   "id": "b42bae9e",
   "metadata": {
    "id": "b42bae9e"
   },
   "outputs": [],
   "source": [
    "class myCallback(tf.keras.callbacks.Callback):\n",
    "    def on_epoch_end(self, epoch, logs={}):\n",
    "        if logs.get('class_output_accuracy2') is not None and logs.get('class_output_accuracy2') > 0.85 \\\n",
    "        and logs.get('val_class_output_accuracy2') is not None and logs.get('val_class_output_accuracy2') > 0.8:\n",
    "            self.model.stop_training = True"
   ]
  },
  {
   "cell_type": "code",
   "execution_count": null,
   "id": "b75e7f55",
   "metadata": {
    "id": "b75e7f55"
   },
   "outputs": [],
   "source": [
    "callbacks= myCallback()"
   ]
  },
  {
   "cell_type": "code",
   "execution_count": null,
   "id": "14d0c9d2",
   "metadata": {
    "id": "14d0c9d2"
   },
   "outputs": [],
   "source": [
    "\n",
    "from tensorflow.keras import initializers\n",
    "input_shape = (1, 224, 224)\n",
    "\n",
    "inputs = Input(shape=input_shape)\n",
    "\n",
    "flatten = Flatten()(inputs)\n",
    "\n",
    "dense_class1 = Dense(512, activation='relu', kernel_initializer=initializers.GlorotUniform(),\n",
    "                    kernel_regularizer=tf.keras.regularizers.l2(0.001))(flatten)\n",
    "drop1=Dropout(0.2)(dense_class1)\n",
    "\n",
    "dense_class2 = Dense(256, activation='relu', kernel_initializer=initializers.GlorotUniform(),\n",
    "                    kernel_regularizer=tf.keras.regularizers.l2(0.001))(drop1)\n",
    "drop2=Dropout(0.2)(dense_class2)\n",
    "output_class = Dense(11*12, activation='relu', kernel_initializer=initializers.GlorotUniform(),\n",
    "                     kernel_regularizer=tf.keras.regularizers.l2(0.001))(drop2)\n",
    "output_class = Reshape((11, 12))(output_class)\n",
    "\n",
    "softmax_layers = []\n",
    "for i in range(11):\n",
    "    row = tf.keras.layers.Lambda(lambda x: x[:, :, i])(output_class)\n",
    "    softmax= Dense(12, activation='softmax')(row)\n",
    "#     softmax = tf.keras.layers.Softmax()(row)\n",
    "    softmax_layers.append(softmax)\n",
    "\n",
    "output_class2 = tf.keras.layers.Concatenate(axis=-1)(softmax_layers)\n",
    "output_class2 = Reshape((11, 12), name='class_output')(output_class2)\n",
    "\n",
    "\n",
    "\n",
    "dense_reg1 = Dense(128, activation='relu')(flatten)\n",
    "dropout1= Dropout(0.2)(dense_reg1)\n",
    "dense_reg2 = Dense(128, activation='relu')(dropout1)\n",
    "dropout2=  Dropout(0.2)(dense_reg2)\n",
    "dense_reg3 = Dense(64, activation='relu')(dropout2)\n",
    "dense_reg4 = Dense(64, activation='relu')(dense_reg3)\n",
    "output_reg = Dense(11*4)(dense_reg4)\n",
    "output_reg = Reshape((11, 4))(output_reg)\n",
    "\n",
    "\n",
    "reg_layers = []\n",
    "for i in range(11):\n",
    "    row = tf.keras.layers.Lambda(lambda x: x[:, i])(output_reg)\n",
    "    out= Dense(4)(row)\n",
    "    reg_layers.append(out)\n",
    "\n",
    "reg_output2 = tf.keras.layers.Concatenate(axis=-1)(reg_layers)\n",
    "reg_output2 = Reshape((11, 4), name='reg_output')(reg_output2)\n",
    "\n",
    "\n",
    "model = Model(inputs=inputs, outputs=[output_class2, reg_output2])\n",
    "optimizer = tf.keras.optimizers.SGD(learning_rate=0.01, momentum= 0.9, clipnorm=1)\n",
    "model.compile(optimizer='SGD',\n",
    "              loss={'class_output': categorical_crossentropy2,\n",
    "                    'reg_output': 'mse'},\n",
    "              loss_weights={'class_output': 1.0, 'reg_output': 1.0},\n",
    "              metrics={'class_output': accuracy2,\n",
    "                       'reg_output': 'mae'}, run_eagerly=True)"
   ]
  },
  {
   "cell_type": "code",
   "execution_count": null,
   "id": "f7b51014",
   "metadata": {
    "id": "f7b51014",
    "outputId": "629339d5-1590-4995-97a1-45306aff2767"
   },
   "outputs": [],
   "source": [
    "model.summary()"
   ]
  },
  {
   "cell_type": "code",
   "execution_count": null,
   "id": "26d454cc",
   "metadata": {
    "id": "26d454cc",
    "outputId": "548efd18-9601-4755-dda5-b9f5aaa09299"
   },
   "outputs": [],
   "source": [
    "plot_model(model, to_file='model_diagram.png', show_shapes=True)"
   ]
  },
  {
   "cell_type": "code",
   "execution_count": null,
   "id": "00d68788",
   "metadata": {
    "id": "00d68788",
    "outputId": "888d420c-d90d-40ae-a5ae-b1776ddca1bd",
    "scrolled": false
   },
   "outputs": [],
   "source": [
    "#with tf.device('/CPU:0'):\n",
    "H = model.fit(X_train_ext, {'class_output': classes_train, 'reg_output': dims_train},\n",
    "                    validation_data=(X_val_ext, {'class_output': classes_val, 'reg_output': dims_val}),\n",
    "                    batch_size=8, epochs=200, callbacks= [callbacks])\n",
    "model.save(\"annotations_multi_transformers.h5\")"
   ]
  },
  {
   "cell_type": "code",
   "execution_count": null,
   "id": "fa39e7a3",
   "metadata": {
    "id": "fa39e7a3"
   },
   "outputs": [],
   "source": [
    "N = 100\n",
    "plt.style.use(\"ggplot\")\n",
    "plt.figure()\n",
    "#plt.plot(np.arange(0, N), H.history[\"loss\"], label=\"train_loss\")\n",
    "plt.plot(np.arange(0, N), H.history[\"class_output_loss\"], label=\"train_class_loss\")\n",
    "plt.plot(np.arange(0, N), H.history[\"reg_output_loss\"], label=\"train_reg_loss\")\n",
    "plt.plot(np.arange(0, N), H.history[\"class_output_accuracy2\"], label=\"train_accuracy\")\n",
    "plt.plot(np.arange(0, N), H.history[\"reg_output_mae\"], label=\"train_mae\")\n",
    "#plt.plot(np.arange(0, N), H.history[\"val_loss\"], label=\"val_loss\")\n",
    "plt.plot(np.arange(0, N), H.history[\"val_class_output_loss\"], label=\"val_class_loss\")\n",
    "plt.plot(np.arange(0, N), H.history[\"val_reg_output_loss\"], label=\"val_reg_loss\")\n",
    "plt.plot(np.arange(0, N), H.history[\"val_class_output_accuracy2\"], label=\"val_accuracy\")\n",
    "plt.plot(np.arange(0, N), H.history[\"val_reg_output_mae\"], label=\"val_mae\")\n",
    "plt.title(\"Training Loss and MAE\")\n",
    "plt.xlabel(\"Epoch #\")\n",
    "plt.ylabel(\"Loss/Accuracy\")\n",
    "plt.legend(loc=\"lower left\")\n",
    "plt.show()"
   ]
  },
  {
   "cell_type": "code",
   "execution_count": null,
   "id": "6a4378b5",
   "metadata": {
    "id": "6a4378b5"
   },
   "outputs": [],
   "source": [
    "def inv_minmax_scaler(val, minn, maxx):\n",
    "    return ((val *(maxx-minn))+ minn)"
   ]
  },
  {
   "cell_type": "code",
   "execution_count": null,
   "id": "a364edc1",
   "metadata": {
    "id": "a364edc1"
   },
   "outputs": [],
   "source": [
    "get_annotations(path)"
   ]
  },
  {
   "cell_type": "code",
   "execution_count": null,
   "id": "fd83d4fc",
   "metadata": {
    "id": "fd83d4fc"
   },
   "outputs": [],
   "source": [
    "def plot(img_path, xml_path):\n",
    "\n",
    "\n",
    "\n",
    "    img = cv2.imread(img_path)\n",
    "    img2 = cv2.resize(img, (w, l))\n",
    "    img= cv2.cvtColor(img2, cv2.COLOR_BGR2GRAY)\n",
    "    img= np.expand_dims(img, axis=0)\n",
    "    img= np.reshape(img, (1, 1, 224, 224))\n",
    "    img = feature_extractor(img, return_tensors='tf')\n",
    "    img = img['pixel_values'].numpy()\n",
    "\n",
    "\n",
    "    fig, ax = plt.subplots(figsize=(10, 10))\n",
    "    ax.imshow(img2, cmap = 'gray')\n",
    "\n",
    "    pred= model.predict(img)\n",
    "    real= get_annotations(xml_path)\n",
    "\n",
    "    i=0\n",
    "    while(np.argmax(pred[0][0][i])!= 11):\n",
    "\n",
    "        name = np.argmax(pred[0][0][i])\n",
    "        xmin = inv_minmax_scaler(pred[1][0][i][0], xmin_min, xmin_max)\n",
    "        ymin = inv_minmax_scaler(pred[1][0][i][1], ymin_min, ymin_max)\n",
    "        xmax = inv_minmax_scaler(pred[1][0][i][2], xmax_min, xmax_max)\n",
    "        ymax = inv_minmax_scaler(pred[1][0][i][3], ymax_min, ymax_max)\n",
    "\n",
    "        if xmin > xmax:\n",
    "            temp = xmin\n",
    "            xmin = xmax\n",
    "            xmax = temp\n",
    "        if ymin > ymax:\n",
    "            temp = ymin\n",
    "            ymin = ymax\n",
    "            ymax = temp\n",
    "#         print(xmin, ymin, xmax, ymax)\n",
    "\n",
    "        width_rec = xmax - xmin\n",
    "        height_rec = ymax - ymin\n",
    "\n",
    "        rect = plt.Rectangle((xmin, ymin), width_rec, height_rec, fill=False, edgecolor='red')\n",
    "        ax.add_patch(rect)\n",
    "        plt.text(xmin+width_rec/2, ymin+height_rec/2, f'pred {mapping2[name]}', color='red', ha='center', va='center')\n",
    "\n",
    "        if i<= len(real)-1:\n",
    "            name = real[i][0]\n",
    "            xmin = real[i][1]\n",
    "            ymin = real[i][2]\n",
    "            xmax = real[i][3]\n",
    "            ymax = real[i][4]\n",
    "\n",
    "            if xmin > xmax:\n",
    "                temp = xmin\n",
    "                xmin = xmax\n",
    "                xmax = temp\n",
    "            if ymin > ymax:\n",
    "                temp = ymin\n",
    "                ymin = ymax\n",
    "                ymax = temp\n",
    "\n",
    "#             print(xmin, ymin, xmax, ymax)\n",
    "            width_rec = xmax - xmin\n",
    "            height_rec = ymax - ymin\n",
    "\n",
    "            rect2 = plt.Rectangle((xmin, ymin), width_rec, height_rec, fill=False, edgecolor='blue')\n",
    "            ax.add_patch(rect2)\n",
    "            plt.text(xmin+width_rec/2, ymin+height_rec/2, f'real {mapping2[name]}', color='blue', ha='center', va='center')\n",
    "\n",
    "        i+=1\n",
    "\n",
    "    plt.show()"
   ]
  },
  {
   "cell_type": "code",
   "execution_count": null,
   "id": "5ad819f6",
   "metadata": {
    "id": "5ad819f6"
   },
   "outputs": [],
   "source": [
    "x=90\n",
    "xml_path= fr'lable/punching_hole ({x}).xml'\n",
    "path= fr'gc10det/punching_hole/punching_hole ({x}).jpg'\n",
    "plot(path, xml_path)"
   ]
  },
  {
   "cell_type": "code",
   "execution_count": null,
   "id": "c8e161d5",
   "metadata": {
    "id": "c8e161d5"
   },
   "outputs": [],
   "source": []
  },
  {
   "cell_type": "code",
   "execution_count": null,
   "id": "d1dd0dc7",
   "metadata": {
    "id": "d1dd0dc7"
   },
   "outputs": [],
   "source": []
  }
 ],
 "metadata": {
  "colab": {
   "provenance": []
  },
  "kernelspec": {
   "display_name": "Python 3 (ipykernel)",
   "language": "python",
   "name": "python3"
  },
  "language_info": {
   "codemirror_mode": {
    "name": "ipython",
    "version": 3
   },
   "file_extension": ".py",
   "mimetype": "text/x-python",
   "name": "python",
   "nbconvert_exporter": "python",
   "pygments_lexer": "ipython3",
   "version": "3.9.16"
  }
 },
 "nbformat": 4,
 "nbformat_minor": 5
}
